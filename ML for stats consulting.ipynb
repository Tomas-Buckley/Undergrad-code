{
 "cells": [
  {
   "cell_type": "code",
   "execution_count": 1,
   "id": "d7d776f0",
   "metadata": {},
   "outputs": [],
   "source": [
    "import pandas as pd\n",
    "import numpy as np\n",
    "#import hyperopt as hp\n",
    "import sklearn.metrics as met\n",
    "#import xgboost as xgb\n",
    "from xgboost import XGBRegressor  # For regression tasks (replace with XGBClassifier for classification)\n",
    "from sklearn.model_selection import train_test_split\n",
    "from sklearn.model_selection import RandomizedSearchCV\n",
    "from sklearn.preprocessing import OneHotEncoder\n",
    "import scipy\n",
    "import matplotlib.pyplot as plt\n",
    "from time import time\n",
    "import scipy.stats as stats\n",
    "\n",
    "from sklearn.datasets import load_digits\n",
    "from sklearn.model_selection import GridSearchCV"
   ]
  },
  {
   "cell_type": "raw",
   "id": "f0cc80cc",
   "metadata": {},
   "source": [
    "\n",
    "\n",
    "# Select categorical features\n",
    "categorical_columns = ['VehBrand', 'VehGas', 'Gender', 'Transmission', 'Employment', 'VehPower_capped', 'RegArea']\n",
    "\n",
    "# Create dummy variables for each categorical feature\n",
    "X_with_dummies = pd.get_dummies(X, columns=categorical_columns, drop_first=True)\n",
    "\n",
    "# Combine with other numerical features (if any)\n",
    "# Assuming numerical features are already in X\n",
    "X_combined = X_with_dummies\n",
    "\n",
    "print(X_combined)"
   ]
  },
  {
   "cell_type": "raw",
   "id": "614e67e8",
   "metadata": {},
   "source": [
    "encoder = OneHotEncoder(sparse_output=False)\n",
    "#VehBrand: object, VehGas: object, Gender: object, Transmission: object, Employment: object, VehPower_capped: object\n",
    "# Select categorical features\n",
    "categorical_columns = X[['VehBrand', 'VehGas','Gender','Transmission','Employment','VehPower_capped','RegArea']]\n",
    "# Fit the encoder on the categorical features\n",
    "encoder.fit(categorical_columns)\n",
    "\n",
    "# Transform the categorical features using the fitted encoder\n",
    "encoded_features = encoder.transform(categorical_columns)\n",
    "\n",
    "# Combine encoded features with other numerical features\n",
    "X_combined = pd.concat([X, pd.DataFrame(encoded_features, columns=encoder.get_feature_names_out())], axis=1)\n",
    "\n",
    "print(encoded_features)"
   ]
  },
  {
   "cell_type": "raw",
   "id": "289fd628",
   "metadata": {},
   "source": [
    "from sklearn.tree import DecisionTreeRegressor\n",
    "from skopt import gp_minimize\n",
    "\n",
    "# Define the objective function to minimize\n",
    "def objective_funcy(params):\n",
    "\n",
    "    # Extract hyperparameters\n",
    "    max_depth = params[0]\n",
    "    min_samples_leaf = params[1]\n",
    "    min_samples_split = params[2]\n",
    "    # Create the model with hyperparameters\n",
    "    model = DecisionTreeRegressor(max_depth=int(max_depth),\n",
    "                                  min_samples_leaf=int(min_samples_leaf),\n",
    "                                  min_samples_split=int(min_samples_split))\n",
    "\n",
    "    # Train the model\n",
    "    model.fit(X_train, y_train)\n",
    "\n",
    "    # Make predictions on the test set\n",
    "    predictions = model.predict(X_test)\n",
    "\n",
    "    # Calculate the root mean squared error (RMSE) as an example metric (replace with your desired metric)\n",
    "    rmse = np.sqrt(met.mean_squared_error(y_test, predictions))\n",
    "\n",
    "    return -rmse"
   ]
  },
  {
   "cell_type": "raw",
   "id": "cac6b0b4",
   "metadata": {},
   "source": [
    "\n",
    "# Define the search space for hyperparameters\n",
    "search_space = [\n",
    "  (3,10),  # max_depth (integer between 3 and 10)\n",
    "    # min_samples_split (integer between 2 and 20)\n",
    "  (1,10),\n",
    "  (2,20)# min_samples_leaf (integer between 1 and 10)\n",
    "]\n",
    "\n",
    "# Perform the hyperparameter optimization\n",
    "mybest_params, mybest_rmse = gp_minimize(objective_funcy, search_space, n_calls=100,random_state=1)\n",
    "\n",
    "# Print the best hyperparameters and RMSE\n",
    "print(\"Best hyperparameters:\", best_params)\n",
    "print(\"Best RMSE:\", -best_rmse/len(y_test))\n",
    "\n",
    "# Create the model with the best hyperparameters\n",
    "mymodel = DecisionTreeRegressor( max_depth=int(params[0]),\n",
    "                              min_samples_leaf=int(params[1]),\n",
    "                              min_samples_split=int(params[2]))\n",
    "\n",
    "# Train the final model\n",
    "mymodel.fit(X_train, y_train)"
   ]
  },
  {
   "cell_type": "raw",
   "id": "1b25f627",
   "metadata": {},
   "source": [
    "# Define the DecisionTreeRegressor model\n",
    "model = DecisionTreeRegressor()\n",
    "\n",
    "# Define the search space for hyperparameters\n",
    "{'C': scipy.stats.expon(scale=100), 'gamma': scipy.stats.expon(scale=.1),\n",
    "  'kernel': ['rbf'], 'class_weight':['balanced', None]}\n",
    "# Create the GridSearchCV object\n",
    "grid_search = RandomizedSearchCV(estimator=model, param_grid=param_grid, cv=5, scoring='neg_mean_squared_error')\n",
    "\n",
    "# Train the model with grid search\n",
    "grid_search.fit(X_train, y_train)\n",
    "\n",
    "# Print the best hyperparameters and best RMSE (converted from negative value)\n",
    "print(\"Best hyperparameters:\", grid_search.best_params_)\n",
    "print(\"Best RMSE:\", -grid_search.best_score_)\n",
    "\n",
    "# Access the best model from the grid search\n",
    "best_model = rgrid_search.best_estimator_\n",
    "\n",
    "# Use the best model for final training or prediction\n",
    "best_model.fit(X_train, y_train)\n",
    "predictions = best_model.predict(X_test)"
   ]
  },
  {
   "cell_type": "raw",
   "id": "3061a2e4",
   "metadata": {},
   "source": [
    "# Build a regression tree\n",
    "reg = DecisionTreeRegressor(random_state=118370936)\n",
    "\n",
    "\n",
    "# Utility function to report best scores\n",
    "def report(results, n_top=3):\n",
    "    for i in range(1, n_top + 1):\n",
    "        candidates = np.flatnonzero(results[\"rank_test_score\"] == i)\n",
    "        for candidate in candidates:\n",
    "            print(\"Model with rank: {0}\".format(i))\n",
    "            print(\n",
    "                \"Mean validation score: {0:.3f} (std: {1:.3f})\".format(\n",
    "                    results[\"mean_test_score\"][candidate],\n",
    "                    results[\"std_test_score\"][candidate],\n",
    "                )\n",
    "            )\n",
    "            print(\"Parameters: {0}\".format(results[\"params\"][candidate]))\n",
    "            print(\"\")\n",
    "\n",
    "\n",
    "# specify parameters and distributions to sample from\n",
    "param_dist = {\n",
    "    \"max_depth\": [3, 5, 7],\n",
    "    \"min_samples_split\": [2, 5, 10],\n",
    "    \"min_samples_leaf\": [1, 2, 4],\n",
    "}\n",
    "\n",
    "# run randomized search\n",
    "n_iter_search = 15\n",
    "random_search = RandomizedSearchCV(\n",
    "    reg, param_distributions=param_dist, n_iter=n_iter_search\n",
    ")\n",
    "\n",
    "start = time()\n",
    "random_search.fit(X_train, y_train)\n",
    "print(\n",
    "    \"RandomizedSearchCV took %.2f seconds for %d candidates parameter settings.\"\n",
    "    % ((time() - start), n_iter_search)\n",
    ")\n",
    "report(random_search.cv_results_)\n",
    "\n",
    "# use a full grid over all parameters\n",
    "param_grid = {\n",
    "    \"max_depth\": [3, 5, 7, 9],\n",
    "    \"min_samples_split\": [2, 5, 10, 15],\n",
    "    \"min_samples_leaf\": [1, 2, 4, 8],\n",
    "}\n",
    "\n",
    "# run grid search\n",
    "grid_search = GridSearchCV(clf, param_grid=param_grid)\n",
    "start = time()\n",
    "grid_search.fit(X_train, y_train)\n",
    "\n",
    "print(\n",
    "    \"GridSearchCV took %.2f seconds for %d candidate parameter settings.\"\n",
    "    % (time() - start, len(grid_search.cv_results_[\"params\"]))\n",
    ")\n",
    "report(grid_search.cv_results_)"
   ]
  },
  {
   "cell_type": "raw",
   "id": "28798c07",
   "metadata": {},
   "source": [
    "#default is gbtree for booster\n",
    "#default eta=0.3 seems reasonable for this dataset\n",
    "#higher gamma = more conservative node splitting based on loss function\n",
    "#min_child_weight prevents overfitting\n",
    "#set sub_sample to 0.95 to reduce overfitting\n",
    "#l1 regularization usd because of high dimensionality\n",
    "\n",
    "#\n",
    "model = XGBRegressor(objective='reg:squarederror', max_depth=4, n_estimators=150,learning_rate=0.03,\n",
    "                    subsample=0.95,alpha=0.8,seed=118370936,min_sample_split=13,min_samples_leaf=6)\n",
    "model.fit(X_train,y_train)"
   ]
  },
  {
   "cell_type": "raw",
   "id": "f4ed9565",
   "metadata": {},
   "source": [
    "model.score(X_test,y_test)"
   ]
  },
  {
   "cell_type": "raw",
   "id": "cb935e3b",
   "metadata": {},
   "source": [
    "from sklearn.model_selection import GridSearchCV\n",
    "\n",
    "param_grid = {\n",
    "    'max_depth': [3, 5, 8],\n",
    "    'n_estimators': [50, 100, 200]\n",
    "}\n",
    "\n",
    "model_cv = GridSearchCV(model, param_grid, scoring='neg_mean_squared_error', cv=5)\n",
    "model_cv.fit(dtrain)\n",
    "\n",
    "best_model = model_cv.best_estimator_\n",
    "y_pred = best_model.predict(dtest)\n"
   ]
  },
  {
   "cell_type": "code",
   "execution_count": 2,
   "id": "b8dc1246",
   "metadata": {},
   "outputs": [],
   "source": [
    "import pandas as pd\n",
    "import matplotlib.pyplot as plt\n",
    "import seaborn as sns\n",
    "import sklearn\n",
    "import warnings\n",
    "import numpy as np\n",
    "\n",
    "\n",
    "from sklearn.preprocessing import LabelEncoder\n",
    "from sklearn.impute import KNNImputer\n",
    "from sklearn.model_selection import train_test_split\n",
    "from sklearn.preprocessing import StandardScaler\n",
    "from sklearn.metrics import f1_score\n",
    "from sklearn.ensemble import RandomForestRegressor\n",
    "from sklearn.ensemble import RandomForestRegressor\n",
    "from sklearn.model_selection import cross_val_score"
   ]
  },
  {
   "cell_type": "code",
   "execution_count": 3,
   "id": "2e8305c5",
   "metadata": {},
   "outputs": [
    {
     "data": {
      "text/plain": [
       "array([2204.  , 2032.49,  556.14, ..., 1204.  , 1204.  , 1675.19])"
      ]
     },
     "execution_count": 3,
     "metadata": {},
     "output_type": "execute_result"
    }
   ],
   "source": [
    "df = pd.read_csv(\"C:/Users/Lenovo/Documents/Stats conuslting sem II/data.csv\")\n",
    "df\n",
    "#plt.plot(range(int(df['ClaimAmount']),df['ClaimAmount'])\n",
    "np.array(df['ClaimAmount'])"
   ]
  },
  {
   "cell_type": "code",
   "execution_count": 4,
   "id": "78e112aa",
   "metadata": {},
   "outputs": [
    {
     "name": "stdout",
     "output_type": "stream",
     "text": [
      "       ClaimNb  Exposure VehBrand   VehGas  Gender Transmission  Employment  \\\n",
      "0            1      0.66      B11   Diesel  Female    Automatic      Public   \n",
      "1            1      0.17       B2   Diesel    Male    Automatic     Private   \n",
      "2            1      0.90      B12  Regular  Female       Manual     Private   \n",
      "3            1      1.00       B1  Regular    Male    Automatic     Private   \n",
      "4            2      0.97       B5  Regular  Female    Automatic     Private   \n",
      "...        ...       ...      ...      ...     ...          ...         ...   \n",
      "25519        1      0.20      B10  Regular    Male       Manual     Private   \n",
      "25520        1      0.96       B5  Regular    Male       Manual      Public   \n",
      "25521        1      1.00      B12  Regular  Female    Automatic     Private   \n",
      "25522        1      0.96       B2  Regular    Male    Automatic  Unemployed   \n",
      "25523        1      1.00       B1  Regular  Female    Automatic     Private   \n",
      "\n",
      "       VehAge_Capped  DrivAge_Capped  Fines_Capped  BonusMalus_Capped  \\\n",
      "0                 16              25             0                 50   \n",
      "1                  0               1             0                100   \n",
      "2                  4               8           135                106   \n",
      "3                 11              18           465                 53   \n",
      "4                  6              57           375                 50   \n",
      "...              ...             ...           ...                ...   \n",
      "25519              6              20           375                 50   \n",
      "25520              7              19           465                 50   \n",
      "25521              5              63             0                 58   \n",
      "25522              1               6            90                100   \n",
      "25523             10              14           135                 64   \n",
      "\n",
      "       Density_Capped VehPower_capped RegArea_grouped  \n",
      "0                  45             Low          Middle  \n",
      "1                  59          Middle          Middle  \n",
      "2                1541             Low          Middle  \n",
      "3                8455             Low          Middle  \n",
      "4                 614            High          Middle  \n",
      "...               ...             ...             ...  \n",
      "25519            1601             Low          Middle  \n",
      "25520              22            High          Middle  \n",
      "25521            1313          Middle          Middle  \n",
      "25522              64          Middle          Middle  \n",
      "25523             824             Low          Middle  \n",
      "\n",
      "[25524 rows x 14 columns] [2204.   2032.49  556.14 ... 1204.   1204.   1675.19]\n"
     ]
    }
   ],
   "source": [
    "ID = df['IDpol']\n",
    "df = df.drop(columns=['ClaimID','ClaimCountRow','IDpol','VehAge_Capped_Grouped','DrivAge_Capped_Grouped' ,'Fines_Capped_Grouped',\n",
    "                          'BonusMalus_Capped_Grouped','Density_Capped_Grouped','predicted_claim_amount','VehPower','VehBrand_grouped','VehPower_Factor','RegArea'])\n",
    "X = df.drop('ClaimAmount', axis=1)  # Features\n",
    "y = np.array(df['ClaimAmount'])  # Target variable\n",
    "print(X,y)"
   ]
  },
  {
   "cell_type": "code",
   "execution_count": null,
   "id": "0ef95383",
   "metadata": {},
   "outputs": [],
   "source": [
    "import pandas as pd\n",
    "from sklearn.ensemble import RandomForestRegressor\n",
    "from sklearn.preprocessing import LabelEncoder\n",
    "import numpy as np\n",
    " \n",
    "# Check for and handle categorical variables\n",
    "label_encoder = LabelEncoder()\n",
    "x_categorical = X.select_dtypes(include=['object']).apply(label_encoder.fit_transform)\n",
    "x_numerical = X.select_dtypes(exclude=['object']).values\n",
    "x = pd.concat([pd.DataFrame(x_numerical), x_categorical], axis=1).values"
   ]
  },
  {
   "cell_type": "code",
   "execution_count": 6,
   "id": "32caabc0",
   "metadata": {},
   "outputs": [],
   "source": [
    "X_train, X_val, y_train, y_val = train_test_split(x, y, test_size=0.1, random_state=2)"
   ]
  },
  {
   "cell_type": "code",
   "execution_count": 27,
   "id": "260ca541",
   "metadata": {},
   "outputs": [
    {
     "name": "stdout",
     "output_type": "stream",
     "text": [
      "[0.01863926 0.12922487 0.10259602 0.15655882 0.05895057 0.08552076\n",
      " 0.21697925 0.07277533 0.02453405 0.02501826 0.02406432 0.04207988\n",
      " 0.03881898 0.00423964]\n",
      "Out-of-Bag Score: -0.05672985614004533\n",
      "[0.01830982 0.13023083 0.10198877 0.15755689 0.05912413 0.08470702\n",
      " 0.21688075 0.07248734 0.02447009 0.025514   0.02401651 0.04201201\n",
      " 0.03844751 0.00425433]\n",
      "Out-of-Bag Score: -0.055341390926996636\n",
      "[0.0183167  0.13029673 0.10145135 0.1575495  0.05933596 0.08478063\n",
      " 0.21633032 0.07319844 0.02434515 0.02483985 0.02430812 0.04241321\n",
      " 0.03860717 0.00422688]\n",
      "Out-of-Bag Score: -0.055325394402627515\n",
      "[0.01847989 0.13029399 0.10181716 0.15726706 0.05920659 0.0849461\n",
      " 0.21600052 0.07343436 0.02443585 0.02512723 0.0236991  0.04248203\n",
      " 0.03845776 0.00435236]\n",
      "Out-of-Bag Score: -0.05611846544890087\n",
      "[0.01860108 0.1305679  0.10071527 0.15659385 0.0591522  0.08536656\n",
      " 0.21707341 0.07389971 0.02470881 0.02475608 0.02376535 0.04191153\n",
      " 0.03858432 0.00430393]\n",
      "Out-of-Bag Score: -0.055214666881359564\n",
      "Root Mean Squared Error: [1273.625400319023, 1275.6694227790658, 1273.660141249573, 1269.3279132886316, 1271.1067507840612]\n",
      "Out-of-Bag Score: [-0.05672985614004533, -0.055341390926996636, -0.055325394402627515, -0.05611846544890087, -0.055214666881359564]\n",
      "r-squared: [-0.09237233363026953, -0.0958814114247506, -0.09243192815304391, -0.08501297053792811, -0.08805617809699018]\n"
     ]
    }
   ],
   "source": [
    "reglist =[]\n",
    "r2list = []\n",
    "ooblist =[]\n",
    "rmselist=[]\n",
    "for j in np.linspace(0,5,5):\n",
    "    # Fitting Random Forest Regression to the dataset\n",
    "    regressor = RandomForestRegressor(n_estimators=450, random_state=int(j), oob_score=True)\n",
    "\n",
    "    # Fit the regressor with x and y data\n",
    "    fit = regressor.fit(X_train,y_train)\n",
    "    reglist.append(fit)\n",
    "    feature_importances = regressor.feature_importances_\n",
    "\n",
    "    # Print or visualize the importances\n",
    "    print(feature_importances)\n",
    "\n",
    "    # Access the OOB Score\n",
    "    oob_score = regressor.oob_score_\n",
    "    print(f'Out-of-Bag Score: {oob_score}')\n",
    "    ooblist.append(oob_score)\n",
    "\n",
    "    # Making predictions\n",
    "    predictions = regressor.predict(X_val)\n",
    "\n",
    "    # Evaluating the model\n",
    "    rmse = np.sqrt(mean_squared_error(y_val, predictions))\n",
    "\n",
    "    rmselist.append(rmse)\n",
    "\n",
    "    r2 = r2_score(y_val, predictions)\n",
    "    r2list.append(r2)\n",
    "print(f'Root Mean Squared Error: {rmselist}')\n",
    "print(f'Out-of-Bag Score: {ooblist}')\n",
    "print(f'r-squared: {r2list}')"
   ]
  },
  {
   "cell_type": "raw",
   "id": "f96528c4",
   "metadata": {},
   "source": [
    "model = XGBRegressor(objective='reg:squarederror', max_depth=4, n_estimators=150,learning_rate=0.03,\n",
    "                    subsample=0.95,alpha=0.8,seed=118370936,min_sample_split=13,min_samples_leaf=6)\n",
    "model.fit(X_train,y_train)\n",
    "mfeature_importances = regressor.feature_importances_\n",
    "\n",
    "# Print or visualize the importances\n",
    "print(mfeature_importances)"
   ]
  },
  {
   "cell_type": "code",
   "execution_count": 21,
   "id": "f6e88b8a",
   "metadata": {},
   "outputs": [
    {
     "data": {
      "image/png": "[encoded data removed]",
      "text/plain": [
       "<Figure size 800x600 with 1 Axes>"
      ]
     },
     "metadata": {},
     "output_type": "display_data"
    }
   ],
   "source": [
    "\n",
    "# Example feature names and importances\n",
    "feature_names = [\"ClaimNb\",  \"Exposure\" ,\"VehBrand\",\n",
    "                 \"VehGas\" ,\"Gender\",\"Transmission\" ,\"Employment\",\n",
    "                 \"VehAge_Capped\", \" DrivAge_Capped\",\"Fines_Capped\",\n",
    "                 \"BonusMalus_Capped\",  \"Density_Capped\", \"VehPower_capped\",\"RegArea_grouped\"]\n",
    "\n",
    "# Create a pandas DataFrame for easier plotting\n",
    "df = pd.DataFrame({\"feature\": feature_names, \"importance\": mfeature_importances})\n",
    "\n",
    "# Create a bar chart\n",
    "plt.figure(figsize=(8, 6))\n",
    "plt.bar(df[\"feature\"], df[\"importance\"])\n",
    "plt.xlabel(\"Feature\")\n",
    "plt.ylabel(\"Importance Score\")\n",
    "plt.title(\"Feature Importance from Random Forest Regressor\")\n",
    "plt.xticks(rotation=45)  # Rotate x-axis labels for readability\n",
    "plt.tight_layout()\n",
    "#plt.ylim(0.6,1.0)\n",
    "\n",
    "plt.show()"
   ]
  },
  {
   "cell_type": "code",
   "execution_count": 10,
   "id": "87cbb15b",
   "metadata": {},
   "outputs": [
    {
     "name": "stdout",
     "output_type": "stream",
     "text": [
      "Out-of-Bag Score: -0.07640606534715344\n",
      "Root Mean Squared Error: 1279.9372159661289\n",
      "R-squared: -0.1032262903675445\n"
     ]
    }
   ],
   "source": [
    "from sklearn.metrics import mean_squared_error, r2_score\n",
    " \n",
    "# Access the OOB Score\n",
    "oob_score = regressor.oob_score_\n",
    "print(f'Out-of-Bag Score: {oob_score}')\n",
    " \n",
    "# Making predictions\n",
    "predictions = regressor.predict(X_val)\n",
    " \n",
    "# Evaluating the model\n",
    "rmse = np.sqrt(mean_squared_error(y_val, predictions))\n",
    "print(f'Root Mean Squared Error: {rmse}')\n",
    " \n",
    "r2 = r2_score(y_val, predictions)\n",
    "print(f'R-squared: {r2}')"
   ]
  },
  {
   "cell_type": "code",
   "execution_count": 11,
   "id": "8d1a6bfd",
   "metadata": {},
   "outputs": [
    {
     "data": {
      "image/png": "[encoded data removed]",
      "text/plain": [
       "<Figure size 640x480 with 1 Axes>"
      ]
     },
     "metadata": {},
     "output_type": "display_data"
    }
   ],
   "source": [
    "\n",
    "# Define the number of percentiles\n",
    "n_percentiles = 10  # You can adjust this value\n",
    "plot_array = np.linspace(0,100,11)\n",
    "# Calculate percentiles of the target variable\n",
    "percentiles_test = np.percentile(y_val, range(n_percentiles + 1))\n",
    "percentiles_fit = np.percentile(predictions, range(n_percentiles + 1))\n",
    "plt.plot(plot_array,percentiles_test,label=\"Percentiles of the test set\")\n",
    "plt.plot(plot_array,percentiles_fit,label=\"Percentiles of the model fit\")\n",
    "plt.legend()\n",
    "plt.show()\n",
    "#plt.set_yticklabels([])\n",
    "# # Initialize lists to store errors per percentile\n",
    "# mse_per_percentile = []\n",
    "# mae_per_percentile = []\n",
    "\n",
    "# # Loop through each percentile\n",
    "# for i in range(n_percentiles+1):\n",
    "#     # Select data points within the current percentile range\n",
    "#     mask = (y_test >= percentiles[i-1]) & (y_test < percentiles[i])\n",
    "#     y_test_subset = y_test[mask]\n",
    "#     predictions_subset = predictions[mask]\n",
    "\n",
    "#     # Calculate Mean Squared Error (MSE) and Mean Absolute Error (MAE) for this percentile\n",
    "#     mse = met.mean_squared_error(y_test_subset, predictions_subset)\n",
    "#     mae = met.mean_absolute_error(y_test_subset, predictions_subset)\n",
    "\n",
    "#     mse_per_percentile.append(mse)\n",
    "#     mae_per_percentile.append(mae)\n",
    "\n",
    "# # Print or plot the results (e.g., using matplotlib)\n",
    "# print(\"MSE per percentile:\", mse_per_percentile)\n",
    "# print(\"MAE per percentile:\", mae_per_percentile)\n",
    "# plt.plot(mae_per_percentile)\n",
    "# # You can plot these values vs. percentile to visualize the trends"
   ]
  },
  {
   "cell_type": "raw",
   "id": "588ebea5",
   "metadata": {},
   "source": [
    "from sklearn.tree import plot_tree\n",
    " \n",
    "# Assuming regressor is your trained Random Forest model\n",
    "# Pick one tree from the forest, e.g., the first tree (index 0)\n",
    "tree_to_plot = regressor.estimators_[0]\n",
    " \n",
    "# Plot the decision tree\n",
    "plt.figure(figsize=(20, 10))\n",
    "plot_tree(tree_to_plot, feature_names=df.columns.tolist(), filled=True, rounded=True, fontsize=10)\n",
    "plt.title(\"Decision Tree from Random Forest\")\n",
    "plt.show()"
   ]
  }
 ],
 "metadata": {
  "kernelspec": {
   "display_name": "Python 3 (ipykernel)",
   "language": "python",
   "name": "python3"
  },
  "language_info": {
   "codemirror_mode": {
    "name": "ipython",
    "version": 3
   },
   "file_extension": ".py",
   "mimetype": "text/x-python",
   "name": "python",
   "nbconvert_exporter": "python",
   "pygments_lexer": "ipython3",
   "version": "3.11.5"
  }
 },
 "nbformat": 4,
 "nbformat_minor": 5
}
